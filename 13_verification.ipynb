{
 "cells": [
  {
   "cell_type": "code",
   "execution_count": 3,
   "id": "ec8a81ef-e953-452a-bdef-96f148619347",
   "metadata": {
    "tags": []
   },
   "outputs": [
    {
     "data": {
      "text/plain": [
       "[(0, 12),\n",
       " (2, 11),\n",
       " (4, 10),\n",
       " (6, 9),\n",
       " (8, 8),\n",
       " (10, 7),\n",
       " (12, 6),\n",
       " (14, 5),\n",
       " (16, 4),\n",
       " (18, 3),\n",
       " (20, 2),\n",
       " (22, 1),\n",
       " (24, 0)]"
      ]
     },
     "execution_count": 3,
     "metadata": {},
     "output_type": "execute_result"
    }
   ],
   "source": [
    "# List all possibilities for x and y\n",
    "possibilities = []\n",
    "# x can be from 0 to 24\n",
    "for x in range(25):\n",
    "    # y can be from 0 to 12\n",
    "    for y in range(13):  \n",
    "        if x + 2*y == 24:\n",
    "            possibilities.append((x, y))\n",
    "possibilities"
   ]
  },
  {
   "cell_type": "code",
   "execution_count": 4,
   "id": "6ca161f2-fe00-4d4a-af87-6c87358c4fcd",
   "metadata": {
    "tags": []
   },
   "outputs": [
    {
     "data": {
      "text/plain": [
       "13"
      ]
     },
     "execution_count": 4,
     "metadata": {},
     "output_type": "execute_result"
    }
   ],
   "source": [
    "len(possibilities)"
   ]
  },
  {
   "cell_type": "code",
   "execution_count": null,
   "id": "d580df02-89bb-41bd-a864-72739085bbf6",
   "metadata": {},
   "outputs": [],
   "source": []
  }
 ],
 "metadata": {
  "kernelspec": {
   "display_name": "Python 3 (ipykernel)",
   "language": "python",
   "name": "python3"
  },
  "language_info": {
   "codemirror_mode": {
    "name": "ipython",
    "version": 3
   },
   "file_extension": ".py",
   "mimetype": "text/x-python",
   "name": "python",
   "nbconvert_exporter": "python",
   "pygments_lexer": "ipython3",
   "version": "3.11.5"
  }
 },
 "nbformat": 4,
 "nbformat_minor": 5
}
