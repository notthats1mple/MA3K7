{
 "cells": [
  {
   "cell_type": "code",
   "execution_count": 1,
   "id": "f585ab3f-32af-498b-b83b-f9e9ae5c3b34",
   "metadata": {
    "tags": []
   },
   "outputs": [
    {
     "name": "stdout",
     "output_type": "stream",
     "text": [
      "Final counts - A: 1090, B: 1051, C: 969\n",
      "Final counts - A: 1056, B: 996, C: 1058\n",
      "Final counts - A: 1094, B: 998, C: 1018\n"
     ]
    }
   ],
   "source": [
    "import random\n",
    "num_A = 10\n",
    "num_B = 100\n",
    "num_C = 3000\n",
    "\n",
    "def collide_and_transform(num_A, num_B, num_C):\n",
    "    particles = ['A'] * num_A + ['B'] * num_B + ['C'] * num_C\n",
    "    random.shuffle(particles)\n",
    "    particle1, particle2 = random.sample(particles, 2)\n",
    "    if {particle1, particle2} == {'A', 'B'}:\n",
    "        num_A -= 1\n",
    "        num_B -= 1\n",
    "        num_C += 2\n",
    "    elif {particle1, particle2} == {'A', 'C'}:\n",
    "        num_A -= 1\n",
    "        num_C -= 1\n",
    "        num_B += 2\n",
    "    elif {particle1, particle2} == {'B', 'C'}:\n",
    "        num_B -= 1\n",
    "        num_C -= 1\n",
    "        num_A += 2  \n",
    "    return num_A, num_B, num_C\n",
    "\n",
    "# number of collisions to simulate\n",
    "num_collisions = 50000\n",
    "for _ in range(num_collisions):\n",
    "    num_A, num_B, num_C = collide_and_transform(num_A, num_B, num_C)\n",
    "print(f\"Final counts - A: {num_A}, B: {num_B}, C: {num_C}\")\n",
    "\n",
    "for _ in range(num_collisions):\n",
    "    num_A, num_B, num_C = collide_and_transform(num_A, num_B, num_C)\n",
    "print(f\"Final counts - A: {num_A}, B: {num_B}, C: {num_C}\")\n",
    "\n",
    "for _ in range(num_collisions):\n",
    "    num_A, num_B, num_C = collide_and_transform(num_A, num_B, num_C)\n",
    "print(f\"Final counts - A: {num_A}, B: {num_B}, C: {num_C}\")"
   ]
  }
 ],
 "metadata": {
  "kernelspec": {
   "display_name": "Python 3 (ipykernel)",
   "language": "python",
   "name": "python3"
  },
  "language_info": {
   "codemirror_mode": {
    "name": "ipython",
    "version": 3
   },
   "file_extension": ".py",
   "mimetype": "text/x-python",
   "name": "python",
   "nbconvert_exporter": "python",
   "pygments_lexer": "ipython3",
   "version": "3.11.5"
  }
 },
 "nbformat": 4,
 "nbformat_minor": 5
}
