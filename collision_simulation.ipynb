{
 "cells": [
  {
   "cell_type": "code",
   "execution_count": 2,
   "id": "f585ab3f-32af-498b-b83b-f9e9ae5c3b34",
   "metadata": {
    "tags": []
   },
   "outputs": [
    {
     "name": "stdout",
     "output_type": "stream",
     "text": [
      "Final counts - A: 1066, B: 1012, C: 1032\n",
      "Final counts - A: 1095, B: 1014, C: 1001\n",
      "Final counts - A: 1044, B: 1083, C: 983\n"
     ]
    }
   ],
   "source": [
    "import random\n",
    "num_A = 10\n",
    "num_B = 100\n",
    "num_C = 3000\n",
    "\n",
    "def collide_and_transform(num_A, num_B, num_C):\n",
    "    particles = ['A'] * num_A + ['B'] * num_B + ['C'] * num_C\n",
    "    random.shuffle(particles)\n",
    "    particle1, particle2 = random.sample(particles, 2)\n",
    "    if {particle1, particle2} == {'A', 'B'}:\n",
    "        num_A -= 1\n",
    "        num_B -= 1\n",
    "        num_C += 2\n",
    "    elif {particle1, particle2} == {'A', 'C'}:\n",
    "        num_A -= 1\n",
    "        num_C -= 1\n",
    "        num_B += 2\n",
    "    elif {particle1, particle2} == {'B', 'C'}:\n",
    "        num_B -= 1\n",
    "        num_C -= 1\n",
    "        num_A += 2  \n",
    "    return num_A, num_B, num_C\n",
    "\n",
    "# number of collisions to simulate\n",
    "num_collisions = 50000\n",
    "for _ in range(num_collisions):\n",
    "    num_A, num_B, num_C = collide_and_transform(num_A, num_B, num_C)\n",
    "print(f\"Final counts - A: {num_A}, B: {num_B}, C: {num_C}\")\n",
    "\n",
    "for _ in range(num_collisions):\n",
    "    num_A, num_B, num_C = collide_and_transform(num_A, num_B, num_C)\n",
    "print(f\"Final counts - A: {num_A}, B: {num_B}, C: {num_C}\")\n",
    "\n",
    "for _ in range(num_collisions):\n",
    "    num_A, num_B, num_C = collide_and_transform(num_A, num_B, num_C)\n",
    "print(f\"Final counts - A: {num_A}, B: {num_B}, C: {num_C}\")"
   ]
  },
  {
   "cell_type": "code",
   "execution_count": 3,
   "id": "e567b755-5508-4514-96b3-822ba15a50c9",
   "metadata": {
    "tags": []
   },
   "outputs": [
    {
     "name": "stdout",
     "output_type": "stream",
     "text": [
      "Final counts - A: 488, B: 514, C: 460\n",
      "Final counts - A: 485, B: 478, C: 499\n",
      "Final counts - A: 499, B: 471, C: 492\n"
     ]
    }
   ],
   "source": [
    "num_A = 78\n",
    "num_B = 953\n",
    "num_C = 431\n",
    "\n",
    "num_collisions = 50000\n",
    "for _ in range(num_collisions):\n",
    "    num_A, num_B, num_C = collide_and_transform(num_A, num_B, num_C)\n",
    "print(f\"Final counts - A: {num_A}, B: {num_B}, C: {num_C}\")\n",
    "\n",
    "for _ in range(num_collisions):\n",
    "    num_A, num_B, num_C = collide_and_transform(num_A, num_B, num_C)\n",
    "print(f\"Final counts - A: {num_A}, B: {num_B}, C: {num_C}\")\n",
    "\n",
    "for _ in range(num_collisions):\n",
    "    num_A, num_B, num_C = collide_and_transform(num_A, num_B, num_C)\n",
    "print(f\"Final counts - A: {num_A}, B: {num_B}, C: {num_C}\")"
   ]
  },
  {
   "cell_type": "code",
   "execution_count": 4,
   "id": "d638d5b1-4a59-42f8-a2a0-e4f3af72c34c",
   "metadata": {
    "tags": []
   },
   "outputs": [
    {
     "name": "stdout",
     "output_type": "stream",
     "text": [
      "Final counts - A: 379, B: 384, C: 391\n",
      "Final counts - A: 395, B: 427, C: 332\n",
      "Final counts - A: 363, B: 419, C: 372\n"
     ]
    }
   ],
   "source": [
    "num_A = 738\n",
    "num_B = 35\n",
    "num_C = 381\n",
    "\n",
    "num_collisions = 50000\n",
    "for _ in range(num_collisions):\n",
    "    num_A, num_B, num_C = collide_and_transform(num_A, num_B, num_C)\n",
    "print(f\"Final counts - A: {num_A}, B: {num_B}, C: {num_C}\")\n",
    "\n",
    "for _ in range(num_collisions):\n",
    "    num_A, num_B, num_C = collide_and_transform(num_A, num_B, num_C)\n",
    "print(f\"Final counts - A: {num_A}, B: {num_B}, C: {num_C}\")\n",
    "\n",
    "for _ in range(num_collisions):\n",
    "    num_A, num_B, num_C = collide_and_transform(num_A, num_B, num_C)\n",
    "print(f\"Final counts - A: {num_A}, B: {num_B}, C: {num_C}\")"
   ]
  }
 ],
 "metadata": {
  "kernelspec": {
   "display_name": "Python 3 (ipykernel)",
   "language": "python",
   "name": "python3"
  },
  "language_info": {
   "codemirror_mode": {
    "name": "ipython",
    "version": 3
   },
   "file_extension": ".py",
   "mimetype": "text/x-python",
   "name": "python",
   "nbconvert_exporter": "python",
   "pygments_lexer": "ipython3",
   "version": "3.11.5"
  }
 },
 "nbformat": 4,
 "nbformat_minor": 5
}
