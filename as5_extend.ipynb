{
 "cells": [
  {
   "cell_type": "code",
   "execution_count": 1,
   "id": "2f71b978-03a7-45bc-ad4c-ec6b3c3422e7",
   "metadata": {
    "tags": []
   },
   "outputs": [
    {
     "data": {
      "text/plain": [
       "552"
      ]
     },
     "execution_count": 1,
     "metadata": {},
     "output_type": "execute_result"
    }
   ],
   "source": [
    "def is_valid_move(x, y, visited):\n",
    "    return 0 <= x < 4 and 0 <= y < 4 and not visited[x][y]\n",
    "\n",
    "def count_paths(x, y, visited, moves_count):\n",
    "    if moves_count == 16:\n",
    "        return 1\n",
    "\n",
    "    visited[x][y] = True\n",
    "    possible_moves = [(0, 1), (1, 0), (0, -1), (-1, 0)]\n",
    "    paths_count = 0\n",
    "\n",
    "    for move in possible_moves:\n",
    "        new_x, new_y = x + move[0], y + move[1]\n",
    "        if is_valid_move(new_x, new_y, visited):\n",
    "            paths_count += count_paths(new_x, new_y, visited, moves_count + 1)\n",
    "\n",
    "    visited[x][y] = False\n",
    "    return paths_count\n",
    "\n",
    "visited_matrix = [[False for _ in range(4)] for _ in range(4)]\n",
    "total_paths_from_any_node = 0\n",
    "\n",
    "for i in range(4):\n",
    "    for j in range(4):\n",
    "        visited_matrix = [[False for _ in range(4)] for _ in range(4)]\n",
    "        total_paths_from_any_node += count_paths(i, j, visited_matrix, 1)\n",
    "\n",
    "total_paths_from_any_node"
   ]
  }
 ],
 "metadata": {
  "kernelspec": {
   "display_name": "Python 3 (ipykernel)",
   "language": "python",
   "name": "python3"
  },
  "language_info": {
   "codemirror_mode": {
    "name": "ipython",
    "version": 3
   },
   "file_extension": ".py",
   "mimetype": "text/x-python",
   "name": "python",
   "nbconvert_exporter": "python",
   "pygments_lexer": "ipython3",
   "version": "3.11.5"
  }
 },
 "nbformat": 4,
 "nbformat_minor": 5
}
