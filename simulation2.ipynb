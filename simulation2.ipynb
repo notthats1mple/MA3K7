{
 "cells": [
  {
   "cell_type": "code",
   "execution_count": 4,
   "id": "d6aed064-47e7-4d85-b9d8-5b9d05d8de68",
   "metadata": {},
   "outputs": [
    {
     "name": "stdout",
     "output_type": "stream",
     "text": [
      "Mode: 24 (Frequency: 32)\n",
      "Median: 260.0\n",
      "Variance: 87663.87464816001\n",
      "Skewness: 1.2427104731058676\n"
     ]
    }
   ],
   "source": [
    "import random\n",
    "import numpy as np\n",
    "from scipy import stats\n",
    "\n",
    "def simulate():\n",
    "    numbers = list(range(1, 2025))\n",
    "    while len(numbers) > 1:\n",
    "        a, b = random.sample(numbers, 2)\n",
    "        difference = abs(a - b)\n",
    "        numbers.remove(a)\n",
    "        numbers.remove(b)\n",
    "        numbers.append(difference)\n",
    "    return numbers[0]\n",
    "\n",
    "number_of_simulations = 5000\n",
    "final = [simulate_process() for _ in range(number_of_simulations)]\n",
    "\n",
    "mode = stats.mode(final)\n",
    "median = np.median(final)\n",
    "variance = np.var(final)\n",
    "skewness = stats.skew(final)\n",
    "\n",
    "print(f\"Mode: {mode[0][0]} (Frequency: {mode[1][0]})\")\n",
    "print(f\"Median: {median}\")\n",
    "print(f\"Variance: {variance}\")\n",
    "print(f\"Skewness: {skewness}\")"
   ]
  }
 ],
 "metadata": {
  "kernelspec": {
   "display_name": "Python 3 (ipykernel)",
   "language": "python",
   "name": "python3"
  },
  "language_info": {
   "codemirror_mode": {
    "name": "ipython",
    "version": 3
   },
   "file_extension": ".py",
   "mimetype": "text/x-python",
   "name": "python",
   "nbconvert_exporter": "python",
   "pygments_lexer": "ipython3",
   "version": "3.9.7"
  }
 },
 "nbformat": 4,
 "nbformat_minor": 5
}
