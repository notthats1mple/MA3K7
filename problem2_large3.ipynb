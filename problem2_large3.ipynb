{
 "cells": [
  {
   "cell_type": "code",
   "execution_count": 2,
   "id": "2adf4ed0-8241-4da1-81b0-5b2d43652a95",
   "metadata": {
    "tags": []
   },
   "outputs": [
    {
     "name": "stdout",
     "output_type": "stream",
     "text": [
      "The most common loop combination is (50,) occurring 1321 times.\n"
     ]
    }
   ],
   "source": [
    "import random\n",
    "from collections import defaultdict\n",
    "import matplotlib.pyplot as plt\n",
    "def simulate_game_choices():\n",
    "    strings = {i: [2*i-1, 2*i, 1] for i in range(1, 51)}\n",
    "    loop_lengths = []\n",
    "    for _ in range(50):\n",
    "        ends = [end for string in strings.values() for end in string[:2]]\n",
    "        if len(ends) <= 0:\n",
    "            break\n",
    "        end1, end2 = random.sample(ends, 2)\n",
    "        strings_with_ends = {key: value for key, value in strings.items() if end1 in value[:2] or end2 in value[:2]}\n",
    "        if len(strings_with_ends) == 1:\n",
    "            string_id, string_data = next(iter(strings_with_ends.items()))\n",
    "            loop_lengths.append(string_data[2])\n",
    "            del strings[string_id]\n",
    "            continue\n",
    "        string_ids = list(strings_with_ends.keys())\n",
    "        combined_length = sum(strings_with_ends[id][2] for id in string_ids)\n",
    "        new_ends = [end for id in string_ids for end in strings_with_ends[id][:2] if end not in [end1, end2]]\n",
    "        new_string_id = max(strings.keys(), default=0) + 1      \n",
    "        for id in string_ids:\n",
    "            del strings[id]\n",
    "        strings[new_string_id] = new_ends + [combined_length]\n",
    "    return tuple(sorted(loop_lengths))\n",
    "\n",
    "n_simulations = 10000\n",
    "all_results = [simulate_game_choices() for _ in range(n_simulations)]\n",
    "unique_outcomes = defaultdict(int)\n",
    "\n",
    "for result in all_results:\n",
    "    unique_outcomes[result] += 1\n",
    "\n",
    "most_common_outcome = max(unique_outcomes.items(), key=lambda x: x[1])\n",
    "print(f\"The most common loop combination is {most_common_outcome[0]} occurring {most_common_outcome[1]} times.\")"
   ]
  }
 ],
 "metadata": {
  "kernelspec": {
   "display_name": "Python 3 (ipykernel)",
   "language": "python",
   "name": "python3"
  },
  "language_info": {
   "codemirror_mode": {
    "name": "ipython",
    "version": 3
   },
   "file_extension": ".py",
   "mimetype": "text/x-python",
   "name": "python",
   "nbconvert_exporter": "python",
   "pygments_lexer": "ipython3",
   "version": "3.11.5"
  }
 },
 "nbformat": 4,
 "nbformat_minor": 5
}
