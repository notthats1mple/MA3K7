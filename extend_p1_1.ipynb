{
 "cells": [
  {
   "cell_type": "code",
   "execution_count": 18,
   "id": "49f10436-caa5-4a47-9c33-c15430c7224a",
   "metadata": {
    "tags": []
   },
   "outputs": [
    {
     "name": "stdout",
     "output_type": "stream",
     "text": [
      "Final counts - A: 923, B: 861, C: 865, D: 961\n",
      "Final counts - A: 854, B: 880, C: 924, D: 952\n",
      "Final counts - A: 867, B: 853, C: 989, D: 901\n"
     ]
    }
   ],
   "source": [
    "import random\n",
    "num_A = 10\n",
    "num_B = 100\n",
    "num_C = 500\n",
    "num_D = 3000\n",
    "def collide_and_transform(num_A, num_B, num_C, num_D):\n",
    "    particles = ['A'] * num_A + ['B'] * num_B + ['C'] * num_C + ['D'] * num_D\n",
    "    random.shuffle(particles)\n",
    "    particle1, particle2, particle3 = random.sample(particles, 3)\n",
    "    if {particle1, particle2, particle3} == {'A', 'B', 'C'}:\n",
    "        num_A -= 1\n",
    "        num_B -= 1\n",
    "        num_C -= 1\n",
    "        num_D += 3\n",
    "    elif {particle1, particle2, particle3} == {'A', 'C', 'D'}:\n",
    "        num_A -= 1\n",
    "        num_B += 3\n",
    "        num_C -= 1\n",
    "        num_D -= 1\n",
    "    elif {particle1, particle2, particle3} == {'B', 'C', 'D'}:\n",
    "        num_A += 3\n",
    "        num_B -= 1\n",
    "        num_C -= 1\n",
    "        num_D -= 1\n",
    "    elif {particle1, particle2, particle3} == {'A', 'B', 'D'}:\n",
    "        num_A -= 1\n",
    "        num_B -= 1\n",
    "        num_C += 3\n",
    "        num_D -= 1\n",
    "    return num_A, num_B, num_C, num_D\n",
    "\n",
    "num_collisions = 50000\n",
    "for _ in range(num_collisions):\n",
    "    num_A, num_B, num_C, num_D = collide_and_transform(num_A, num_B, num_C, num_D)\n",
    "print(f\"Final counts - A: {num_A}, B: {num_B}, C: {num_C}, D: {num_D}\")\n",
    "\n",
    "for _ in range(num_collisions):\n",
    "    num_A, num_B, num_C, num_D = collide_and_transform(num_A, num_B, num_C, num_D)\n",
    "print(f\"Final counts - A: {num_A}, B: {num_B}, C: {num_C}, D: {num_D}\")\n",
    "\n",
    "for _ in range(num_collisions):\n",
    "    num_A, num_B, num_C, num_D = collide_and_transform(num_A, num_B, num_C, num_D)\n",
    "print(f\"Final counts - A: {num_A}, B: {num_B}, C: {num_C}, D: {num_D}\")"
   ]
  }
 ],
 "metadata": {
  "kernelspec": {
   "display_name": "Python 3 (ipykernel)",
   "language": "python",
   "name": "python3"
  },
  "language_info": {
   "codemirror_mode": {
    "name": "ipython",
    "version": 3
   },
   "file_extension": ".py",
   "mimetype": "text/x-python",
   "name": "python",
   "nbconvert_exporter": "python",
   "pygments_lexer": "ipython3",
   "version": "3.11.5"
  }
 },
 "nbformat": 4,
 "nbformat_minor": 5
}
