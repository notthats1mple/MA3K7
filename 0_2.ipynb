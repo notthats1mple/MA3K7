{
 "cells": [
  {
   "cell_type": "code",
   "execution_count": 1,
   "id": "b2b0a0fd-28fa-4b77-b92c-d76c1e247ff1",
   "metadata": {},
   "outputs": [
    {
     "name": "stdout",
     "output_type": "stream",
     "text": [
      "The length of the bracelet starting with (1,5) is: 60\n",
      "Pairs from '00' to '99' that have not appeared in the sequence: ['00', '02', '04', '05', '06', '08', '13', '18', '20', '21', '22', '24', '26', '28', '34', '39', '40', '42', '44', '46', '47', '48', '50', '55', '60', '62', '63', '64', '66', '68', '71', '76', '80', '82', '84', '86', '88', '89', '92', '97']\n"
     ]
    }
   ],
   "source": [
    "first_term = 1\n",
    "second_term = 5\n",
    "\n",
    "sequence = [first_term, second_term]\n",
    "seen_pairs = {(first_term, second_term)}\n",
    "\n",
    "while True:\n",
    "    next_term = (first_term + second_term) % 10\n",
    "    sequence.append(next_term)\n",
    "    first_term, second_term = second_term, next_term\n",
    "    if (first_term, second_term) in seen_pairs:\n",
    "        break\n",
    "    else:\n",
    "        seen_pairs.add((first_term, second_term))\n",
    "\n",
    "loop_sequence = sequence[:-2]\n",
    "x = sequence[0]\n",
    "y = sequence[1]\n",
    "print(f\"The length of the bracelet starting with ({x},{y}) is: {len(sequence[:-2])}\")\n",
    "loop_sequence.append(loop_sequence[0])\n",
    "two_digit_pairs = [f\"{loop_sequence[i]}{loop_sequence[i + 1]}\" for i in range(len(loop_sequence) - 1)]\n",
    "all_possible_pairs = [f\"{i:02d}\" for i in range(100)]\n",
    "unseen_pairs = [pair for pair in all_possible_pairs if pair not in two_digit_pairs]\n",
    "print(\"Pairs from '00' to '99' that have not appeared in the sequence:\", unseen_pairs)"
   ]
  }
 ],
 "metadata": {
  "kernelspec": {
   "display_name": "Python 3 (ipykernel)",
   "language": "python",
   "name": "python3"
  },
  "language_info": {
   "codemirror_mode": {
    "name": "ipython",
    "version": 3
   },
   "file_extension": ".py",
   "mimetype": "text/x-python",
   "name": "python",
   "nbconvert_exporter": "python",
   "pygments_lexer": "ipython3",
   "version": "3.9.7"
  }
 },
 "nbformat": 4,
 "nbformat_minor": 5
}
