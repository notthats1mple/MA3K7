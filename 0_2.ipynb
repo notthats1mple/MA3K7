{
 "cells": [
  {
   "cell_type": "code",
   "execution_count": 2,
   "id": "b2b0a0fd-28fa-4b77-b92c-d76c1e247ff1",
   "metadata": {},
   "outputs": [
    {
     "name": "stdout",
     "output_type": "stream",
     "text": [
      "The looping sequence starting with (0,2) is: [0, 2, 2, 4, 6, 0, 6, 6, 2, 8, 0, 8, 8, 6, 4, 0, 4, 4, 8, 2]\n",
      "Pairs from '00' to '99' that have not appeared in the sequence: ['00', '05', '13', '18', '21', '26', '34', '39', '42', '47', '50', '55', '63', '68', '71', '76', '84', '89', '92', '97']\n"
     ]
    }
   ],
   "source": [
    "first_term = 1\n",
    "second_term = 5\n",
    "\n",
    "sequence = [first_term, second_term]\n",
    "seen_pairs = {(first_term, second_term)}\n",
    "\n",
    "while True:\n",
    "    next_term = (first_term + second_term) % 10\n",
    "    sequence.append(next_term)\n",
    "    first_term, second_term = second_term, next_term\n",
    "    if (first_term, second_term) in seen_pairs:\n",
    "        break\n",
    "    else:\n",
    "        seen_pairs.add((first_term, second_term))\n",
    "\n",
    "loop_sequence = sequence[:-2]\n",
    "x = sequence[0]\n",
    "y = sequence[1]\n",
    "loop_sequence.append(loop_sequence[0])\n",
    "two_digit_pairs = [f\"{loop_sequence[i]}{loop_sequence[i + 1]}\" for i in range(len(loop_sequence) - 1)]\n",
    "all_possible_pairs = [f\"{i:02d}\" for i in range(100)]\n",
    "unseen_pairs = [pair for pair in all_possible_pairs if pair not in two_digit_pairs]\n",
    "\n",
    "\n",
    "first_term = 0\n",
    "second_term = 2\n",
    "\n",
    "sequence = [first_term, second_term]\n",
    "seen_pairs = {(first_term, second_term)}\n",
    "\n",
    "while True:\n",
    "    next_term = (first_term + second_term) % 10\n",
    "    sequence.append(next_term)\n",
    "    first_term, second_term = second_term, next_term\n",
    "    if (first_term, second_term) in seen_pairs:\n",
    "        break\n",
    "    else:\n",
    "        seen_pairs.add((first_term, second_term))\n",
    "loop_sequence = sequence[:-2]\n",
    "x = sequence[0]\n",
    "y = sequence[1]\n",
    "\n",
    "print(f\"The looping sequence starting with ({x},{y}) is: {loop_sequence}\")\n",
    "loop_sequence.append(loop_sequence[0])\n",
    "two_digit_pairs = [f\"{loop_sequence[i]}{loop_sequence[i + 1]}\" for i in range(len(loop_sequence) - 1)]\n",
    "\n",
    "all_possible_pairs = unseen_pairs\n",
    "unseen_pairs = [pair for pair in all_possible_pairs if pair not in two_digit_pairs]\n",
    "print(\"Pairs from '00' to '99' that have not appeared in the sequence:\", unseen_pairs)"
   ]
  }
 ],
 "metadata": {
  "kernelspec": {
   "display_name": "Python 3 (ipykernel)",
   "language": "python",
   "name": "python3"
  },
  "language_info": {
   "codemirror_mode": {
    "name": "ipython",
    "version": 3
   },
   "file_extension": ".py",
   "mimetype": "text/x-python",
   "name": "python",
   "nbconvert_exporter": "python",
   "pygments_lexer": "ipython3",
   "version": "3.9.7"
  }
 },
 "nbformat": 4,
 "nbformat_minor": 5
}
