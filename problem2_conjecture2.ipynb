{
 "cells": [
  {
   "cell_type": "code",
   "execution_count": 5,
   "id": "04f115f5-1e47-42b2-ac21-4baeb427c776",
   "metadata": {
    "tags": []
   },
   "outputs": [
    {
     "data": {
      "text/plain": [
       "[[1, 1, 1, 1, 1, 1],\n",
       " [1, 1, 1, 1, 2],\n",
       " [1, 1, 1, 3],\n",
       " [1, 1, 2, 2],\n",
       " [1, 1, 4],\n",
       " [1, 2, 3],\n",
       " [1, 5],\n",
       " [2, 2, 2],\n",
       " [2, 4],\n",
       " [3, 3],\n",
       " [6]]"
      ]
     },
     "execution_count": 5,
     "metadata": {},
     "output_type": "execute_result"
    }
   ],
   "source": [
    "def decompose(n, start=1, current=[]):\n",
    "    if n == 0:\n",
    "        yield current\n",
    "    else:\n",
    "        for i in range(start, n + 1):\n",
    "            yield from decompose(n - i, i, current + [i])\n",
    "decompositions = list(decompose(6))\n",
    "decompositions"
   ]
  }
 ],
 "metadata": {
  "kernelspec": {
   "display_name": "Python 3 (ipykernel)",
   "language": "python",
   "name": "python3"
  },
  "language_info": {
   "codemirror_mode": {
    "name": "ipython",
    "version": 3
   },
   "file_extension": ".py",
   "mimetype": "text/x-python",
   "name": "python",
   "nbconvert_exporter": "python",
   "pygments_lexer": "ipython3",
   "version": "3.11.5"
  }
 },
 "nbformat": 4,
 "nbformat_minor": 5
}
