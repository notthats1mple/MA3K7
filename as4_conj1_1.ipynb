{
 "cells": [
  {
   "cell_type": "code",
   "execution_count": 2,
   "id": "58f82cd9-1759-4fdf-9973-21c327279408",
   "metadata": {},
   "outputs": [
    {
     "data": {
      "text/plain": [
       "13"
      ]
     },
     "execution_count": 2,
     "metadata": {},
     "output_type": "execute_result"
    }
   ],
   "source": [
    "count_sets = 0\n",
    "# Iterate through the possible number of twos in a set\n",
    "for twos in range(13):\n",
    "    ones = 24 - 2*twos\n",
    "    if ones >= 0:\n",
    "        count_sets += 1\n",
    "count_sets"
   ]
  }
 ],
 "metadata": {
  "kernelspec": {
   "display_name": "Python 3 (ipykernel)",
   "language": "python",
   "name": "python3"
  },
  "language_info": {
   "codemirror_mode": {
    "name": "ipython",
    "version": 3
   },
   "file_extension": ".py",
   "mimetype": "text/x-python",
   "name": "python",
   "nbconvert_exporter": "python",
   "pygments_lexer": "ipython3",
   "version": "3.11.5"
  }
 },
 "nbformat": 4,
 "nbformat_minor": 5
}
