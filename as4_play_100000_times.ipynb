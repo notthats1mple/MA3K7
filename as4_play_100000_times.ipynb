{
 "cells": [
  {
   "cell_type": "code",
   "execution_count": 2,
   "id": "1fa07d98-e3ca-45fa-9b84-a64a2341563f",
   "metadata": {
    "tags": []
   },
   "outputs": [
    {
     "data": {
      "text/plain": [
       "0.666745"
      ]
     },
     "execution_count": 2,
     "metadata": {},
     "output_type": "execute_result"
    }
   ],
   "source": [
    "import numpy as np\n",
    "\n",
    "def simulate_exact_landing(steps, target, simulations):\n",
    "    count_landed_exactly_on_target = 0\n",
    "    for i in range(simulations):\n",
    "        #starting at step 1\n",
    "        position = 1\n",
    "        for j in range(steps):\n",
    "            coin_toss = np.random.choice([1, 2])\n",
    "            position += coin_toss\n",
    "            if position == target:\n",
    "                count_landed_exactly_on_target += 1\n",
    "                break\n",
    "            elif position > target:\n",
    "                break\n",
    "    \n",
    "    return count_landed_exactly_on_target / simulations\n",
    "\n",
    "n_steps = 24\n",
    "target_step = 25\n",
    "n_simulations = 1000000\n",
    "\n",
    "probability_exact_landing = simulate_exact_landing(n_steps, target_step, n_simulations)\n",
    "probability_exact_landing"
   ]
  }
 ],
 "metadata": {
  "kernelspec": {
   "display_name": "Python 3 (ipykernel)",
   "language": "python",
   "name": "python3"
  },
  "language_info": {
   "codemirror_mode": {
    "name": "ipython",
    "version": 3
   },
   "file_extension": ".py",
   "mimetype": "text/x-python",
   "name": "python",
   "nbconvert_exporter": "python",
   "pygments_lexer": "ipython3",
   "version": "3.11.5"
  }
 },
 "nbformat": 4,
 "nbformat_minor": 5
}
