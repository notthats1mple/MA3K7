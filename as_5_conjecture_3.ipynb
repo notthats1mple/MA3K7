{
 "cells": [
  {
   "cell_type": "code",
   "execution_count": 1,
   "id": "36ba0332-b4db-4d93-b772-1fd996459aff",
   "metadata": {
    "tags": []
   },
   "outputs": [
    {
     "data": {
      "text/plain": [
       "8"
      ]
     },
     "execution_count": 1,
     "metadata": {},
     "output_type": "execute_result"
    }
   ],
   "source": [
    "from itertools import product\n",
    "\n",
    "moves = [(0, 1), (0, -1), (1, 0), (-1, 0)]\n",
    "\n",
    "def is_valid(pos, visited):\n",
    "    return (0 <= pos[0] < 3) and (0 <= pos[1] < 3) and (pos not in visited)\n",
    "\n",
    "def explore_path(pos, visited):\n",
    "    if len(visited) == 9:\n",
    "        return 1\n",
    "    paths = 0\n",
    "    for move in moves:\n",
    "        next_pos = (pos[0] + move[0], pos[1] + move[1])\n",
    "        if is_valid(next_pos, visited):\n",
    "            paths += explore_path(next_pos, visited | {next_pos})\n",
    "    return paths\n",
    "\n",
    "start_pos = (1, 1)\n",
    "visited = {start_pos}\n",
    "distinct_paths_center = explore_path(start_pos, {start_pos})\n",
    "distinct_paths_center"
   ]
  }
 ],
 "metadata": {
  "kernelspec": {
   "display_name": "Python 3 (ipykernel)",
   "language": "python",
   "name": "python3"
  },
  "language_info": {
   "codemirror_mode": {
    "name": "ipython",
    "version": 3
   },
   "file_extension": ".py",
   "mimetype": "text/x-python",
   "name": "python",
   "nbconvert_exporter": "python",
   "pygments_lexer": "ipython3",
   "version": "3.11.5"
  }
 },
 "nbformat": 4,
 "nbformat_minor": 5
}
