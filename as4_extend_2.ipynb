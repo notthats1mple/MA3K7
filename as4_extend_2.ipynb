{
 "cells": [
  {
   "cell_type": "code",
   "execution_count": 5,
   "id": "167e803c-8088-4bbd-bf55-c4574e74483c",
   "metadata": {
    "tags": []
   },
   "outputs": [
    {
     "data": {
      "text/latex": [
       "$\\displaystyle 8387641$"
      ],
      "text/plain": [
       "8387641"
      ]
     },
     "execution_count": 5,
     "metadata": {},
     "output_type": "execute_result"
    }
   ],
   "source": [
    "from sympy import binomial, summation, symbols\n",
    "\n",
    "i = symbols('i')\n",
    "sum_expression_2 = summation(binomial(24-2*i, i) * (2)**(2*i), (i, 0, 8))\n",
    "sum_expression_2"
   ]
  },
  {
   "cell_type": "code",
   "execution_count": 7,
   "id": "da6e4627-7e43-4c94-b503-3df09d4b2d5f",
   "metadata": {
    "tags": []
   },
   "outputs": [
    {
     "data": {
      "text/plain": [
       "0.4999423623085022"
      ]
     },
     "execution_count": 7,
     "metadata": {},
     "output_type": "execute_result"
    }
   ],
   "source": [
    "probability = 8387641 / (2**24)\n",
    "probability"
   ]
  }
 ],
 "metadata": {
  "kernelspec": {
   "display_name": "Python 3 (ipykernel)",
   "language": "python",
   "name": "python3"
  },
  "language_info": {
   "codemirror_mode": {
    "name": "ipython",
    "version": 3
   },
   "file_extension": ".py",
   "mimetype": "text/x-python",
   "name": "python",
   "nbconvert_exporter": "python",
   "pygments_lexer": "ipython3",
   "version": "3.11.5"
  }
 },
 "nbformat": 4,
 "nbformat_minor": 5
}
