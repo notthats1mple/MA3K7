{
 "cells": [
  {
   "cell_type": "code",
   "execution_count": 8,
   "id": "5f89a21d-9fa7-404b-b39b-fd9bf0685a29",
   "metadata": {},
   "outputs": [
    {
     "name": "stdout",
     "output_type": "stream",
     "text": [
      "The person who places 0 can always win the 3x3 matrix game! So I will definitely win the game!\n"
     ]
    }
   ],
   "source": [
    "import numpy as np\n",
    "i_definitely_win = False\n",
    "entries = [0,0,0,0,1,1,1,1,1]\n",
    "\n",
    "def det(reordered_entries):\n",
    "    final_stage_matrix = np.array(reordered_entries).reshape(3, 3)\n",
    "    return int(np.linalg.det(final_stage_matrix))\n",
    "\n",
    "# returns True if no zero columns and rows, and no duplicate rows\n",
    "def check(final_stage_matrix):\n",
    "    if not isinstance(final_stage_matrix, np.ndarray):\n",
    "        matrix = np.array(final_stage_matrix).reshape(3, 3)\n",
    "    else:\n",
    "        matrix = final_stage_matrix\n",
    "    # Check for identical rows and columns\n",
    "    for i in range(3):\n",
    "        for j in range(i+1, 3):\n",
    "            if np.array_equal(matrix[i], matrix[j]) or np.array_equal(matrix[:, i], matrix[:, j]):\n",
    "                return False\n",
    "    # Check for zero row\n",
    "    for row in matrix:\n",
    "        if np.all(row == 0):\n",
    "            return False\n",
    "    # Check for zero column\n",
    "    for col in matrix.T:\n",
    "        if np.all(col == 0):\n",
    "            return False\n",
    "    return True\n",
    "\n",
    "def permute(arr, start=0, result=None):\n",
    "    if result is None:\n",
    "        result = []\n",
    "    if start == len(arr) - 1:\n",
    "        result.append(arr.copy())  # Add a copy of the current permutation\n",
    "    for i in range(start, len(arr)):\n",
    "        arr[start], arr[i] = arr[i], arr[start]  # Swap\n",
    "        permute(arr, start + 1, result)\n",
    "        arr[start], arr[i] = arr[i], arr[start]  # Swap back (backtrack)\n",
    "    return result\n",
    "\n",
    "all_permu = permute(entries)\n",
    "\n",
    "def do_i_always_win(all_permu, i_definitely_win = False):\n",
    "    for A in all_permu:\n",
    "        # If A does not have zero rows/columns or identical rows/columns\n",
    "        if not check(A):\n",
    "            continue\n",
    "        determinant = det(A)  # Calculate the determinant of A\n",
    "        if determinant == 0:\n",
    "            print(\"Bruh, the person who places 0 may lose the game.\")\n",
    "            i_definitely_win = True\n",
    "            break  # Exit the loop since we've found a case that proves the point\n",
    "    if not i_definitely_win:\n",
    "        print(\"The person who places 0 can always win the 3x3 matrix game! So I will definitely win the game!\")\n",
    "\n",
    "    \n",
    "do_i_always_win(all_permu)"
   ]
  }
 ],
 "metadata": {
  "kernelspec": {
   "display_name": "Python 3 (ipykernel)",
   "language": "python",
   "name": "python3"
  },
  "language_info": {
   "codemirror_mode": {
    "name": "ipython",
    "version": 3
   },
   "file_extension": ".py",
   "mimetype": "text/x-python",
   "name": "python",
   "nbconvert_exporter": "python",
   "pygments_lexer": "ipython3",
   "version": "3.9.7"
  }
 },
 "nbformat": 4,
 "nbformat_minor": 5
}
