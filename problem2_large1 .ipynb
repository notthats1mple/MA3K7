{
 "cells": [
  {
   "cell_type": "code",
   "execution_count": 2,
   "id": "dd93178b-c311-42d3-8b8a-506859083497",
   "metadata": {
    "tags": []
   },
   "outputs": [
    {
     "data": {
      "text/plain": [
       "204226"
      ]
     },
     "execution_count": 2,
     "metadata": {},
     "output_type": "execute_result"
    }
   ],
   "source": [
    "def decompose(n, start=1, current=[]):\n",
    "    if n == 0:\n",
    "        yield current\n",
    "    else:\n",
    "        for i in range(start, n + 1):\n",
    "            yield from decompose(n - i, i, current + [i])\n",
    "\n",
    "decompositions = list(decompose(50))\n",
    "len_decompositions = len(decompositions)\n",
    "len_decompositions"
   ]
  }
 ],
 "metadata": {
  "kernelspec": {
   "display_name": "Python 3 (ipykernel)",
   "language": "python",
   "name": "python3"
  },
  "language_info": {
   "codemirror_mode": {
    "name": "ipython",
    "version": 3
   },
   "file_extension": ".py",
   "mimetype": "text/x-python",
   "name": "python",
   "nbconvert_exporter": "python",
   "pygments_lexer": "ipython3",
   "version": "3.11.5"
  }
 },
 "nbformat": 4,
 "nbformat_minor": 5
}
