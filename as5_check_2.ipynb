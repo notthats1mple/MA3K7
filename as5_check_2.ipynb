{
 "cells": [
  {
   "cell_type": "code",
   "execution_count": 1,
   "id": "76bd41c9-b9fa-40b2-a25d-f2af806f29c1",
   "metadata": {
    "tags": []
   },
   "outputs": [
    {
     "name": "stdout",
     "output_type": "stream",
     "text": [
      "1 -> 2 -> 3 -> 4 -> 5 -> 6 -> 7 -> 8 -> 9\n",
      "1 -> 2 -> 9 -> 8 -> 7 -> 6 -> 5 -> 4 -> 3\n"
     ]
    }
   ],
   "source": [
    "from itertools import product\n",
    "\n",
    "moves = [(0, 1), (0, -1), (1, 0), (-1, 0)]\n",
    "\n",
    "number_at_position = {\n",
    "    (0, 0): 7, (0, 1): 6, (0, 2): 5,\n",
    "    (1, 0): 8, (1, 1): 1, (1, 2): 4,\n",
    "    (2, 0): 9, (2, 1): 2, (2, 2): 3\n",
    "}\n",
    "\n",
    "def is_valid(pos, visited):\n",
    "    return 0 <= pos[0] < 3 and 0 <= pos[1] < 3 and number_at_position[pos] not in visited\n",
    "\n",
    "def explore_path(pos, visited, path, all_paths):\n",
    "    if len(visited) == 9:\n",
    "        all_paths.append(path[:])\n",
    "        return\n",
    "    for move in moves:\n",
    "        next_pos = (pos[0] + move[0], pos[1] + move[1])\n",
    "        if is_valid(next_pos, visited):\n",
    "            visited.add(number_at_position[next_pos])\n",
    "            path.append(number_at_position[next_pos])\n",
    "            explore_path(next_pos, visited, path, all_paths)\n",
    "            visited.remove(number_at_position[next_pos])\n",
    "            path.pop()\n",
    "\n",
    "start_pos = (1, 1)\n",
    "second_step = (2, 1)\n",
    "visited = {1, 2}\n",
    "path = [1, 2]\n",
    "all_paths = []\n",
    "explore_path(second_step, visited, path, all_paths)\n",
    "\n",
    "for path in all_paths:\n",
    "    print(\" -> \".join(map(str, path)))"
   ]
  }
 ],
 "metadata": {
  "kernelspec": {
   "display_name": "Python 3 (ipykernel)",
   "language": "python",
   "name": "python3"
  },
  "language_info": {
   "codemirror_mode": {
    "name": "ipython",
    "version": 3
   },
   "file_extension": ".py",
   "mimetype": "text/x-python",
   "name": "python",
   "nbconvert_exporter": "python",
   "pygments_lexer": "ipython3",
   "version": "3.11.5"
  }
 },
 "nbformat": 4,
 "nbformat_minor": 5
}
