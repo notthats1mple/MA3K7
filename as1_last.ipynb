{
 "cells": [
  {
   "cell_type": "code",
   "execution_count": 1,
   "id": "b8d6d8c7-5f10-4d96-b1e1-cb11b1f047ab",
   "metadata": {},
   "outputs": [
    {
     "name": "stdout",
     "output_type": "stream",
     "text": [
      "The length of the bracelet starting with (1,5) is: 60\n",
      "Pairs from '00' to '99' that have not appeared in the sequence: ['00', '02', '04', '05', '06', '08', '13', '18', '20', '21', '22', '24', '26', '28', '34', '39', '40', '42', '44', '46', '47', '48', '50', '55', '60', '62', '63', '64', '66', '68', '71', '76', '80', '82', '84', '86', '88', '89', '92', '97']\n"
     ]
    }
   ],
   "source": [
    "first_term = 1\n",
    "second_term = 5\n",
    "\n",
    "sequence = [first_term, second_term]\n",
    "\n",
    "seen_pairs = {(first_term, second_term)}\n",
    "\n",
    "while True:\n",
    "    next_term = (first_term + second_term) % 10\n",
    "    sequence.append(next_term)\n",
    "    first_term, second_term = second_term, next_term\n",
    "    if (first_term, second_term) in seen_pairs:\n",
    "        break\n",
    "    else:\n",
    "        seen_pairs.add((first_term, second_term))\n",
    "\n",
    "\n",
    "loop_sequence = sequence[:-2]\n",
    "\n",
    "x = sequence[0]\n",
    "y = sequence[1]\n",
    "print(f\"The length of the bracelet starting with ({x},{y}) is: {len(sequence[:-2])}\")\n",
    "loop_sequence.append(loop_sequence[0])\n",
    "two_digit_pairs = [f\"{loop_sequence[i]}{loop_sequence[i + 1]}\" for i in range(len(loop_sequence) - 1)]\n",
    "all_possible_pairs = [f\"{i:02d}\" for i in range(100)]\n",
    "unseen_pairs = [pair for pair in all_possible_pairs if pair not in two_digit_pairs]\n",
    "\n",
    "print(\"Pairs from '00' to '99' that have not appeared in the sequence:\", unseen_pairs)"
   ]
  },
  {
   "cell_type": "code",
   "execution_count": 2,
   "id": "6a2ac0cd-23c5-4693-9355-e749007b367d",
   "metadata": {},
   "outputs": [
    {
     "name": "stdout",
     "output_type": "stream",
     "text": [
      "The length of the bracelet starting with (0,2) is: 20\n",
      "The looping sequence starting with (0,2) is: [0, 2, 2, 4, 6, 0, 6, 6, 2, 8, 0, 8, 8, 6, 4, 0, 4, 4, 8, 2]\n",
      "Pairs from '00' to '99' that have not appeared in the sequence: ['00', '05', '13', '18', '21', '26', '34', '39', '42', '47', '50', '55', '63', '68', '71', '76', '84', '89', '92', '97']\n"
     ]
    }
   ],
   "source": [
    "first_term = 0\n",
    "second_term = 2\n",
    "\n",
    "sequence = [first_term, second_term]\n",
    "seen_pairs = {(first_term, second_term)}\n",
    "\n",
    "while True:\n",
    "    next_term = (first_term + second_term) % 10\n",
    "    sequence.append(next_term)\n",
    "    first_term, second_term = second_term, next_term\n",
    "    if (first_term, second_term) in seen_pairs:\n",
    "        break\n",
    "    else:\n",
    "        seen_pairs.add((first_term, second_term))\n",
    "\n",
    "loop_sequence = sequence[:-2]\n",
    "x = sequence[0]\n",
    "y = sequence[1]\n",
    "print(f\"The length of the bracelet starting with ({x},{y}) is: {len(sequence[:-2])}\")\n",
    "print(f\"The looping sequence starting with ({x},{y}) is: {loop_sequence}\")\n",
    "loop_sequence.append(loop_sequence[0])\n",
    "two_digit_pairs = [f\"{loop_sequence[i]}{loop_sequence[i + 1]}\" for i in range(len(loop_sequence) - 1)]\n",
    "\n",
    "all_possible_pairs = unseen_pairs\n",
    "unseen_pairs = [pair for pair in all_possible_pairs if pair not in two_digit_pairs]\n",
    "print(\"Pairs from '00' to '99' that have not appeared in the sequence:\", unseen_pairs)"
   ]
  },
  {
   "cell_type": "code",
   "execution_count": 3,
   "id": "696e8d91-c979-4c99-9ed7-3137f270574e",
   "metadata": {},
   "outputs": [
    {
     "name": "stdout",
     "output_type": "stream",
     "text": [
      "The length of the bracelet starting with (0,5) is: 3\n",
      "The looping sequence starting with (0,5) is: [0, 5, 5]\n",
      "Pairs from '00' to '99' that have not appeared in the sequence: ['00', '13', '18', '21', '26', '34', '39', '42', '47', '63', '68', '71', '76', '84', '89', '92', '97']\n"
     ]
    }
   ],
   "source": [
    "first_term = 0\n",
    "second_term = 5\n",
    "\n",
    "sequence = [first_term, second_term]\n",
    "seen_pairs = {(first_term, second_term)}\n",
    "\n",
    "while True:\n",
    "    next_term = (first_term + second_term) % 10\n",
    "    sequence.append(next_term)\n",
    "    first_term, second_term = second_term, next_term\n",
    "    if (first_term, second_term) in seen_pairs:\n",
    "        break\n",
    "    else:\n",
    "        seen_pairs.add((first_term, second_term))\n",
    "\n",
    "loop_sequence = sequence[:-2]\n",
    "\n",
    "x = sequence[0]\n",
    "y = sequence[1]\n",
    "print(f\"The length of the bracelet starting with ({x},{y}) is: {len(sequence[:-2])}\")\n",
    "print(f\"The looping sequence starting with ({x},{y}) is: {loop_sequence}\")\n",
    "loop_sequence.append(loop_sequence[0])\n",
    "two_digit_pairs = [f\"{loop_sequence[i]}{loop_sequence[i + 1]}\" for i in range(len(loop_sequence) - 1)]\n",
    "\n",
    "all_possible_pairs = unseen_pairs\n",
    "unseen_pairs = [pair for pair in all_possible_pairs if pair not in two_digit_pairs]\n",
    "print(\"Pairs from '00' to '99' that have not appeared in the sequence:\", unseen_pairs)"
   ]
  },
  {
   "cell_type": "code",
   "execution_count": 4,
   "id": "a76d3163-3b35-43a9-93d7-aa80e0706c66",
   "metadata": {},
   "outputs": [
    {
     "name": "stdout",
     "output_type": "stream",
     "text": [
      "The length of the bracelet starting with (1,3) is: 12\n",
      "The looping sequence starting with (1,3) is: [1, 3, 4, 7, 1, 8, 9, 7, 6, 3, 9, 2]\n",
      "Pairs from '00' to '99' that have not appeared in the sequence: ['00', '26', '42', '68', '84']\n"
     ]
    }
   ],
   "source": [
    "first_term = 1\n",
    "second_term = 3\n",
    "\n",
    "sequence = [first_term, second_term]\n",
    "seen_pairs = {(first_term, second_term)}\n",
    "\n",
    "while True:\n",
    "    next_term = (first_term + second_term) % 10\n",
    "    sequence.append(next_term)\n",
    "    first_term, second_term = second_term, next_term\n",
    "    if (first_term, second_term) in seen_pairs:\n",
    "        break\n",
    "    else:\n",
    "        seen_pairs.add((first_term, second_term))\n",
    "loop_sequence = sequence[:-2]\n",
    "\n",
    "x = sequence[0]\n",
    "y = sequence[1]\n",
    "print(f\"The length of the bracelet starting with ({x},{y}) is: {len(sequence[:-2])}\")\n",
    "print(f\"The looping sequence starting with ({x},{y}) is: {loop_sequence}\")\n",
    "loop_sequence.append(loop_sequence[0])\n",
    "two_digit_pairs = [f\"{loop_sequence[i]}{loop_sequence[i + 1]}\" for i in range(len(loop_sequence) - 1)]\n",
    "all_possible_pairs = unseen_pairs\n",
    "unseen_pairs = [pair for pair in all_possible_pairs if pair not in two_digit_pairs]\n",
    "print(\"Pairs from '00' to '99' that have not appeared in the sequence:\", unseen_pairs)"
   ]
  },
  {
   "cell_type": "code",
   "execution_count": 5,
   "id": "7139cc95-2c25-4422-bd27-49190af915a5",
   "metadata": {},
   "outputs": [
    {
     "name": "stdout",
     "output_type": "stream",
     "text": [
      "The length of the bracelet starting with (2,6) is: 4\n",
      "The looping sequence starting with (2,6) is: [2, 6, 8, 4]\n",
      "Pairs from '00' to '99' that have not appeared in the sequence: ['00']\n"
     ]
    }
   ],
   "source": [
    "first_term = 2\n",
    "second_term = 6\n",
    "\n",
    "sequence = [first_term, second_term]\n",
    "seen_pairs = {(first_term, second_term)}\n",
    "\n",
    "while True:\n",
    "    next_term = (first_term + second_term) % 10\n",
    "    sequence.append(next_term)\n",
    "    first_term, second_term = second_term, next_term\n",
    "    if (first_term, second_term) in seen_pairs:\n",
    "        break\n",
    "    else:\n",
    "        seen_pairs.add((first_term, second_term))\n",
    "\n",
    "loop_sequence = sequence[:-2]\n",
    "x = sequence[0]\n",
    "y = sequence[1]\n",
    "print(f\"The length of the bracelet starting with ({x},{y}) is: {len(sequence[:-2])}\")\n",
    "print(f\"The looping sequence starting with ({x},{y}) is: {loop_sequence}\")\n",
    "loop_sequence.append(loop_sequence[0])\n",
    "two_digit_pairs = [f\"{loop_sequence[i]}{loop_sequence[i + 1]}\" for i in range(len(loop_sequence) - 1)]\n",
    "all_possible_pairs = unseen_pairs\n",
    "unseen_pairs = [pair for pair in all_possible_pairs if pair not in two_digit_pairs]\n",
    "print(\"Pairs from '00' to '99' that have not appeared in the sequence:\", unseen_pairs)"
   ]
  }
 ],
 "metadata": {
  "kernelspec": {
   "display_name": "Python 3 (ipykernel)",
   "language": "python",
   "name": "python3"
  },
  "language_info": {
   "codemirror_mode": {
    "name": "ipython",
    "version": 3
   },
   "file_extension": ".py",
   "mimetype": "text/x-python",
   "name": "python",
   "nbconvert_exporter": "python",
   "pygments_lexer": "ipython3",
   "version": "3.9.7"
  }
 },
 "nbformat": 4,
 "nbformat_minor": 5
}
