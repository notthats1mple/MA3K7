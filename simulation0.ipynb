{
 "cells": [
  {
   "cell_type": "code",
   "execution_count": 1,
   "id": "012a2c50-c8af-48a5-818f-54deb205ed76",
   "metadata": {},
   "outputs": [
    {
     "data": {
      "text/plain": [
       "(1886, 0)"
      ]
     },
     "execution_count": 1,
     "metadata": {},
     "output_type": "execute_result"
    }
   ],
   "source": [
    "import random\n",
    "\n",
    "def simulate_process():\n",
    "    numbers = list(range(1, 2025))\n",
    "    while len(numbers) > 1:\n",
    "        a, b = random.sample(numbers, 2)\n",
    "        difference = abs(a - b)\n",
    "        numbers.remove(a)\n",
    "        numbers.remove(b)\n",
    "        numbers.append(difference)\n",
    "    return numbers[0]\n",
    "\n",
    "num_simulations = 10000\n",
    "final_numbers = [simulate_process() for _ in range(num_simulations)]\n",
    "\n",
    "max_final_number = max(final_numbers)\n",
    "min_final_number = min(final_numbers)\n",
    "\n",
    "max_final_number, min_final_number"
   ]
  }
 ],
 "metadata": {
  "kernelspec": {
   "display_name": "Python 3 (ipykernel)",
   "language": "python",
   "name": "python3"
  },
  "language_info": {
   "codemirror_mode": {
    "name": "ipython",
    "version": 3
   },
   "file_extension": ".py",
   "mimetype": "text/x-python",
   "name": "python",
   "nbconvert_exporter": "python",
   "pygments_lexer": "ipython3",
   "version": "3.9.7"
  }
 },
 "nbformat": 4,
 "nbformat_minor": 5
}
