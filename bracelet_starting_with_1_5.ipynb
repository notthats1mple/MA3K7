{
 "cells": [
  {
   "cell_type": "code",
   "execution_count": 27,
   "id": "dbc29cfc-cbc7-4f1e-adac-61e2ce5ba289",
   "metadata": {},
   "outputs": [
    {
     "name": "stdout",
     "output_type": "stream",
     "text": [
      "The length of sequence starting with (1,5) is 60\n"
     ]
    }
   ],
   "source": [
    "first_term = 1\n",
    "second_term = 5\n",
    "\n",
    "sequence = [first_term, second_term]\n",
    "\n",
    "max_iterations = 1000\n",
    "current_iteration = 0\n",
    "\n",
    "while current_iteration < max_iterations:\n",
    "    next_term = (first_term + second_term) % 10\n",
    "    sequence.append(next_term)\n",
    "    first_term, second_term = second_term, next_term\n",
    "    current_iteration += 1\n",
    "    if len(sequence) > 4 and sequence[-4:] == sequence[:4]:\n",
    "        break\n",
    "\n",
    "a=sequence[:len(sequence)-4]\n",
    "x = sequence[0]\n",
    "y = sequence[1]\n",
    "print(f\"The length of sequence starting with ({x},{y}) is {len(a)}\")"
   ]
  }
 ],
 "metadata": {
  "kernelspec": {
   "display_name": "Python 3 (ipykernel)",
   "language": "python",
   "name": "python3"
  },
  "language_info": {
   "codemirror_mode": {
    "name": "ipython",
    "version": 3
   },
   "file_extension": ".py",
   "mimetype": "text/x-python",
   "name": "python",
   "nbconvert_exporter": "python",
   "pygments_lexer": "ipython3",
   "version": "3.9.7"
  }
 },
 "nbformat": 4,
 "nbformat_minor": 5
}
