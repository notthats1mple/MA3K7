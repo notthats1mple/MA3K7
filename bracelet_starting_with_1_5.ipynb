{
 "cells": [
  {
   "cell_type": "code",
   "execution_count": 1,
   "id": "dbc29cfc-cbc7-4f1e-adac-61e2ce5ba289",
   "metadata": {},
   "outputs": [
    {
     "data": {
      "text/plain": [
       "[1,\n",
       " 5,\n",
       " 6,\n",
       " 1,\n",
       " 7,\n",
       " 8,\n",
       " 5,\n",
       " 3,\n",
       " 8,\n",
       " 1,\n",
       " 9,\n",
       " 0,\n",
       " 9,\n",
       " 9,\n",
       " 8,\n",
       " 7,\n",
       " 5,\n",
       " 2,\n",
       " 7,\n",
       " 9,\n",
       " 6,\n",
       " 5,\n",
       " 1,\n",
       " 6,\n",
       " 7,\n",
       " 3,\n",
       " 0,\n",
       " 3,\n",
       " 3,\n",
       " 6,\n",
       " 9,\n",
       " 5,\n",
       " 4,\n",
       " 9,\n",
       " 3,\n",
       " 2,\n",
       " 5,\n",
       " 7,\n",
       " 2,\n",
       " 9,\n",
       " 1,\n",
       " 0,\n",
       " 1,\n",
       " 1,\n",
       " 2,\n",
       " 3,\n",
       " 5,\n",
       " 8,\n",
       " 3,\n",
       " 1,\n",
       " 4,\n",
       " 5,\n",
       " 9,\n",
       " 4,\n",
       " 3,\n",
       " 7,\n",
       " 0,\n",
       " 7,\n",
       " 7,\n",
       " 4,\n",
       " 1]"
      ]
     },
     "execution_count": 1,
     "metadata": {},
     "output_type": "execute_result"
    }
   ],
   "source": [
    "# Initialize the first two terms of the sequence\n",
    "first_term = 1\n",
    "second_term = 5\n",
    "\n",
    "# List to hold the terms\n",
    "sequence = [first_term, second_term]\n",
    "\n",
    "# Set a maximum number of iterations to prevent infinite loop\n",
    "max_iterations = 1000\n",
    "current_iteration = 0\n",
    "\n",
    "# Loop to generate the sequence\n",
    "while current_iteration < max_iterations:\n",
    "    # Calculate next term\n",
    "    next_term = (first_term + second_term) % 10\n",
    "\n",
    "    # Add the new term to the sequence\n",
    "    sequence.append(next_term)\n",
    "\n",
    "    # Update the terms for next iteration\n",
    "    first_term, second_term = second_term, next_term\n",
    "\n",
    "    # Increment iteration count\n",
    "    current_iteration += 1\n",
    "\n",
    "    # Check if the sequence has started repeating\n",
    "    if len(sequence) > 4 and sequence[-4:] == sequence[:4]:\n",
    "        break\n",
    "\n",
    "sequence[:len(sequence)-3]  # Removing the last three terms as they are part of the repeating sequence\n",
    "\n"
   ]
  },
  {
   "cell_type": "code",
   "execution_count": 5,
   "id": "7d7f7718-c434-4668-bdca-0306bbae4fe8",
   "metadata": {},
   "outputs": [
    {
     "ename": "AttributeError",
     "evalue": "module 'numpy' has no attribute 'len'",
     "output_type": "error",
     "traceback": [
      "\u001b[0;31m---------------------------------------------------------------------------\u001b[0m",
      "\u001b[0;31mAttributeError\u001b[0m                            Traceback (most recent call last)",
      "\u001b[0;32m/var/folders/kx/6hmbq2754x31l5j9t4dgf8fw0000gn/T/ipykernel_73696/491615348.py\u001b[0m in \u001b[0;36m<module>\u001b[0;34m\u001b[0m\n\u001b[1;32m      1\u001b[0m \u001b[0;32mimport\u001b[0m \u001b[0mnumpy\u001b[0m \u001b[0;32mas\u001b[0m \u001b[0mnp\u001b[0m\u001b[0;34m\u001b[0m\u001b[0;34m\u001b[0m\u001b[0m\n\u001b[0;32m----> 2\u001b[0;31m print(np.len(sequence[:len(sequence)-3]\n\u001b[0m\u001b[1;32m      3\u001b[0m          ))\n",
      "\u001b[0;32m~/opt/anaconda3/lib/python3.9/site-packages/numpy/__init__.py\u001b[0m in \u001b[0;36m__getattr__\u001b[0;34m(attr)\u001b[0m\n\u001b[1;32m    301\u001b[0m                 \u001b[0;32mreturn\u001b[0m \u001b[0mTester\u001b[0m\u001b[0;34m\u001b[0m\u001b[0;34m\u001b[0m\u001b[0m\n\u001b[1;32m    302\u001b[0m \u001b[0;34m\u001b[0m\u001b[0m\n\u001b[0;32m--> 303\u001b[0;31m             raise AttributeError(\"module {!r} has no attribute \"\n\u001b[0m\u001b[1;32m    304\u001b[0m                                  \"{!r}\".format(__name__, attr))\n\u001b[1;32m    305\u001b[0m \u001b[0;34m\u001b[0m\u001b[0m\n",
      "\u001b[0;31mAttributeError\u001b[0m: module 'numpy' has no attribute 'len'"
     ]
    }
   ],
   "source": [
    "import numpy as np\n",
    "print(np.len(sequence[:len(sequence)-3]\n",
    "         ))"
   ]
  },
  {
   "cell_type": "code",
   "execution_count": null,
   "id": "225937a9-8dce-40a2-8610-fbbb38a8f6c8",
   "metadata": {},
   "outputs": [],
   "source": []
  },
  {
   "cell_type": "code",
   "execution_count": null,
   "id": "25fdd0c5-df7b-4411-9229-a76218462c1f",
   "metadata": {},
   "outputs": [],
   "source": []
  },
  {
   "cell_type": "code",
   "execution_count": null,
   "id": "1857d0b7-05ad-4a96-a2df-7e1595713c34",
   "metadata": {},
   "outputs": [],
   "source": []
  },
  {
   "cell_type": "code",
   "execution_count": null,
   "id": "54a56ac7-8b49-43c1-946d-a29f17dd43fc",
   "metadata": {},
   "outputs": [],
   "source": []
  }
 ],
 "metadata": {
  "kernelspec": {
   "display_name": "Python 3 (ipykernel)",
   "language": "python",
   "name": "python3"
  },
  "language_info": {
   "codemirror_mode": {
    "name": "ipython",
    "version": 3
   },
   "file_extension": ".py",
   "mimetype": "text/x-python",
   "name": "python",
   "nbconvert_exporter": "python",
   "pygments_lexer": "ipython3",
   "version": "3.9.7"
  }
 },
 "nbformat": 4,
 "nbformat_minor": 5
}
