{
 "cells": [
  {
   "cell_type": "code",
   "execution_count": 1,
   "id": "ea7592de-fca1-4a2e-bd7a-d81d17e8775d",
   "metadata": {
    "tags": []
   },
   "outputs": [
    {
     "data": {
      "text/latex": [
       "$\\displaystyle 11184811$"
      ],
      "text/plain": [
       "11184811"
      ]
     },
     "execution_count": 1,
     "metadata": {},
     "output_type": "execute_result"
    }
   ],
   "source": [
    "from sympy import binomial, summation, symbols\n",
    "i = symbols('i')\n",
    "sum_expr = summation(binomial(24-i, i) * 2**i, (i, 0, 12))\n",
    "sum_expr\n"
   ]
  }
 ],
 "metadata": {
  "kernelspec": {
   "display_name": "Python 3 (ipykernel)",
   "language": "python",
   "name": "python3"
  },
  "language_info": {
   "codemirror_mode": {
    "name": "ipython",
    "version": 3
   },
   "file_extension": ".py",
   "mimetype": "text/x-python",
   "name": "python",
   "nbconvert_exporter": "python",
   "pygments_lexer": "ipython3",
   "version": "3.11.5"
  }
 },
 "nbformat": 4,
 "nbformat_minor": 5
}
