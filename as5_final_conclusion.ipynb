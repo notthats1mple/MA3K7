{
 "cells": [
  {
   "cell_type": "code",
   "execution_count": 1,
   "id": "03d44034-adef-42b3-923f-4486577685d3",
   "metadata": {
    "tags": []
   },
   "outputs": [
    {
     "data": {
      "text/plain": [
       "8"
      ]
     },
     "execution_count": 1,
     "metadata": {},
     "output_type": "execute_result"
    }
   ],
   "source": [
    "from itertools import product\n",
    "\n",
    "# The possible moves from any position are up, down, left, right\n",
    "moves = [(0, 1), (0, -1), (1, 0), (-1, 0)]\n",
    "\n",
    "# Check if the new position is valid: inside the grid and not visited\n",
    "def is_valid(pos, visited):\n",
    "    return (0 <= pos[0] < 3) and (0 <= pos[1] < 3) and (pos not in visited)\n",
    "\n",
    "# Recursive function to explore all possible paths\n",
    "def explore_path(pos, visited):\n",
    "    # If we have visited 9 nodes, we have found a valid path\n",
    "    if len(visited) == 9:\n",
    "        return 1\n",
    "    paths = 0\n",
    "    for move in moves:\n",
    "        next_pos = (pos[0] + move[0], pos[1] + move[1])\n",
    "        if is_valid(next_pos, visited):\n",
    "            # Continue exploring from the new position\n",
    "            paths += explore_path(next_pos, visited | {next_pos})\n",
    "    return paths\n",
    "\n",
    "\n",
    "\n",
    "# Correcting the starting position for node '1' in the center of the grid\n",
    "start_pos = (1, 1)  # Center position in a zero-indexed 3x3 grid\n",
    "visited = {start_pos}\n",
    "# Re-run the path exploration with the correct starting position for '1'\n",
    "distinct_paths_center = explore_path(start_pos, {start_pos})\n",
    "distinct_paths_center"
   ]
  },
  {
   "cell_type": "code",
   "execution_count": 2,
   "id": "b2957579-4184-4a7a-be9a-e9f8e9cbaa6c",
   "metadata": {
    "tags": []
   },
   "outputs": [
    {
     "data": {
      "text/plain": [
       "8"
      ]
     },
     "execution_count": 2,
     "metadata": {},
     "output_type": "execute_result"
    }
   ],
   "source": [
    "from itertools import product\n",
    "\n",
    "# The possible moves from any position are up, down, left, right\n",
    "moves = [(0, 1), (0, -1), (1, 0), (-1, 0)]\n",
    "\n",
    "# Check if the new position is valid: inside the grid and not visited\n",
    "def is_valid(pos, visited):\n",
    "    return (0 <= pos[0] < 3) and (0 <= pos[1] < 3) and (pos not in visited)\n",
    "\n",
    "# Recursive function to explore all possible paths\n",
    "def explore_path(pos, visited):\n",
    "    # If we have visited 9 nodes, we have found a valid path\n",
    "    if len(visited) == 9:\n",
    "        return 1\n",
    "    paths = 0\n",
    "    for move in moves:\n",
    "        next_pos = (pos[0] + move[0], pos[1] + move[1])\n",
    "        if is_valid(next_pos, visited):\n",
    "            # Continue exploring from the new position\n",
    "            paths += explore_path(next_pos, visited | {next_pos})\n",
    "    return paths\n",
    "\n",
    "\n",
    "\n",
    "# Correcting the starting position for node '1' in the center of the grid\n",
    "start_pos = (0,0)  # Center position in a zero-indexed 3x3 grid\n",
    "visited = {start_pos}\n",
    "# Re-run the path exploration with the correct starting position for '1'\n",
    "distinct_paths_center = explore_path(start_pos, {start_pos})\n",
    "distinct_paths_center"
   ]
  },
  {
   "cell_type": "code",
   "execution_count": 3,
   "id": "302a5111-8534-4704-a117-37cbb5135fbb",
   "metadata": {},
   "outputs": [
    {
     "data": {
      "text/plain": [
       "40"
      ]
     },
     "execution_count": 3,
     "metadata": {},
     "output_type": "execute_result"
    }
   ],
   "source": [
    "def is_valid_move(x, y, visited):\n",
    "    return 0 <= x < 3 and 0 <= y < 3 and not visited[x][y]\n",
    "\n",
    "def count_paths(x, y, visited, moves_count):\n",
    "    if moves_count == 9:\n",
    "        return 1\n",
    "    visited[x][y] = True\n",
    "    possible_moves = [(0, 1), (1, 0), (0, -1), (-1, 0)]\n",
    "    paths_count = 0\n",
    "    for move in possible_moves:\n",
    "        new_x, new_y = x + move[0], y + move[1]\n",
    "        if is_valid_move(new_x, new_y, visited):\n",
    "            paths_count += count_paths(new_x, new_y, visited, moves_count + 1)\n",
    "    visited[x][y] = False\n",
    "    return paths_count\n",
    "\n",
    "visited_matrix = [[False for _ in range(3)] for _ in range(3)]\n",
    "total_paths_from_any_node = 0\n",
    "for i in range(3):\n",
    "    for j in range(3):\n",
    "        visited_matrix = [[False for _ in range(3)] for _ in range(3)]\n",
    "        total_paths_from_any_node += count_paths(i, j, visited_matrix, 1)\n",
    "\n",
    "total_paths_from_any_node"
   ]
  }
 ],
 "metadata": {
  "kernelspec": {
   "display_name": "Python 3 (ipykernel)",
   "language": "python",
   "name": "python3"
  },
  "language_info": {
   "codemirror_mode": {
    "name": "ipython",
    "version": 3
   },
   "file_extension": ".py",
   "mimetype": "text/x-python",
   "name": "python",
   "nbconvert_exporter": "python",
   "pygments_lexer": "ipython3",
   "version": "3.11.5"
  }
 },
 "nbformat": 4,
 "nbformat_minor": 5
}
