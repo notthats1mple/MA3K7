{
 "cells": [
  {
   "cell_type": "code",
   "execution_count": 1,
   "id": "302a5111-8534-4704-a117-37cbb5135fbb",
   "metadata": {},
   "outputs": [
    {
     "data": {
      "text/plain": [
       "40"
      ]
     },
     "execution_count": 1,
     "metadata": {},
     "output_type": "execute_result"
    }
   ],
   "source": [
    "def is_valid_move(x, y, visited):\n",
    "    return 0 <= x < 3 and 0 <= y < 3 and not visited[x][y]\n",
    "\n",
    "def count_paths(x, y, visited, moves_count):\n",
    "    if moves_count == 9:\n",
    "        return 1\n",
    "    visited[x][y] = True\n",
    "    possible_moves = [(0, 1), (1, 0), (0, -1), (-1, 0)]\n",
    "    paths_count = 0\n",
    "    for move in possible_moves:\n",
    "        new_x, new_y = x + move[0], y + move[1]\n",
    "        if is_valid_move(new_x, new_y, visited):\n",
    "            paths_count += count_paths(new_x, new_y, visited, moves_count + 1)\n",
    "    visited[x][y] = False\n",
    "    return paths_count\n",
    "\n",
    "visited_matrix = [[False for _ in range(3)] for _ in range(3)]\n",
    "total_paths_from_any_node = 0\n",
    "for i in range(3):\n",
    "    for j in range(3):\n",
    "        visited_matrix = [[False for _ in range(3)] for _ in range(3)]\n",
    "        total_paths_from_any_node += count_paths(i, j, visited_matrix, 1)\n",
    "\n",
    "total_paths_from_any_node"
   ]
  }
 ],
 "metadata": {
  "kernelspec": {
   "display_name": "Python 3 (ipykernel)",
   "language": "python",
   "name": "python3"
  },
  "language_info": {
   "codemirror_mode": {
    "name": "ipython",
    "version": 3
   },
   "file_extension": ".py",
   "mimetype": "text/x-python",
   "name": "python",
   "nbconvert_exporter": "python",
   "pygments_lexer": "ipython3",
   "version": "3.11.5"
  }
 },
 "nbformat": 4,
 "nbformat_minor": 5
}
