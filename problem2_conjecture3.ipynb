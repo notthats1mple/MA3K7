{
 "cells": [
  {
   "cell_type": "code",
   "execution_count": 9,
   "id": "0539e8ad-3d32-4177-87d1-c8f81e7cd73d",
   "metadata": {
    "tags": []
   },
   "outputs": [
    {
     "data": {
      "text/plain": [
       "[((6,), 36790),\n",
       " ((1, 5), 22277),\n",
       " ((2, 4), 13884),\n",
       " ((1, 2, 3), 9369),\n",
       " ((1, 1, 4), 6916),\n",
       " ((3, 3), 6038),\n",
       " ((1, 1, 2, 2), 1728),\n",
       " ((1, 1, 1, 3), 1536),\n",
       " ((2, 2, 2), 1166),\n",
       " ((1, 1, 1, 1, 2), 282),\n",
       " ((1, 1, 1, 1, 1, 1), 14)]"
      ]
     },
     "execution_count": 9,
     "metadata": {},
     "output_type": "execute_result"
    }
   ],
   "source": [
    "import random\n",
    "from collections import defaultdict\n",
    "\n",
    "def simulate_game_choices():\n",
    "    strings = {1: [1, 2, 1], 2: [3, 4, 1], 3: [5, 6, 1], 4: [7, 8, 1], 5: [9, 10, 1], 6: [11, 12, 1]}\n",
    "    loop_lengths = []\n",
    "    for _ in range(6):\n",
    "        ends = [end for string in strings.values() for end in string[:2]]\n",
    "        if len(ends) < 2:\n",
    "            break\n",
    "        end1, end2 = random.sample(ends, 2)\n",
    "        strings_with_ends = {key: value for key, value in strings.items() if end1 in value[:2] or end2 in value[:2]}\n",
    "        if len(strings_with_ends) == 1:\n",
    "            string_id, string_data = next(iter(strings_with_ends.items()))\n",
    "            loop_lengths.append(string_data[2])\n",
    "            del strings[string_id]\n",
    "            continue\n",
    "        string_ids = list(strings_with_ends.keys())\n",
    "        combined_length = sum(strings_with_ends[id][2] for id in string_ids)\n",
    "        new_ends = [end for id in string_ids for end in strings_with_ends[id][:2] if end not in [end1, end2]]\n",
    "        new_string_id = max(strings.keys(), default=0) + 1      \n",
    "        for id in string_ids:\n",
    "            del strings[id]\n",
    "        strings[new_string_id] = new_ends + [combined_length]\n",
    "    return tuple(sorted(loop_lengths))\n",
    "\n",
    "n_simulations = 100000\n",
    "all_results = [simulate_game_choices() for _ in range(n_simulations)]\n",
    "unique_outcomes = defaultdict(int)\n",
    "\n",
    "for result in all_results:\n",
    "    unique_outcomes[result] += 1\n",
    "\n",
    "sorted_outcomes = sorted(unique_outcomes.items(), key=lambda x: -x[1])\n",
    "sorted_outcomes"
   ]
  },
  {
   "cell_type": "code",
   "execution_count": 10,
   "id": "4c92d361-42c3-4087-bfa5-12e10ae05847",
   "metadata": {
    "tags": []
   },
   "outputs": [
    {
     "data": {
      "text/plain": [
       "{(6,): 0.3679,\n",
       " (1, 5): 0.22277,\n",
       " (2, 4): 0.13884,\n",
       " (1, 2, 3): 0.09369,\n",
       " (1, 1, 4): 0.06916,\n",
       " (3, 3): 0.06038,\n",
       " (1, 1, 2, 2): 0.01728,\n",
       " (1, 1, 1, 3): 0.01536,\n",
       " (2, 2, 2): 0.01166,\n",
       " (1, 1, 1, 1, 2): 0.00282,\n",
       " (1, 1, 1, 1, 1, 1): 0.00014}"
      ]
     },
     "execution_count": 10,
     "metadata": {},
     "output_type": "execute_result"
    }
   ],
   "source": [
    "probabilities = {outcome: count / n_simulations for outcome, count in sorted_outcomes}\n",
    "probabilities"
   ]
  }
 ],
 "metadata": {
  "kernelspec": {
   "display_name": "Python 3 (ipykernel)",
   "language": "python",
   "name": "python3"
  },
  "language_info": {
   "codemirror_mode": {
    "name": "ipython",
    "version": 3
   },
   "file_extension": ".py",
   "mimetype": "text/x-python",
   "name": "python",
   "nbconvert_exporter": "python",
   "pygments_lexer": "ipython3",
   "version": "3.11.5"
  }
 },
 "nbformat": 4,
 "nbformat_minor": 5
}
