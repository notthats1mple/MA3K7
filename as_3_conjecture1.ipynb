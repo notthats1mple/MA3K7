{
 "cells": [
  {
   "cell_type": "code",
   "execution_count": 3,
   "id": "1c71f355-ba37-4989-bb14-0d05d417264b",
   "metadata": {},
   "outputs": [
    {
     "data": {
      "text/plain": [
       "106"
      ]
     },
     "execution_count": 3,
     "metadata": {},
     "output_type": "execute_result"
    }
   ],
   "source": [
    "import random\n",
    "\n",
    "# Initialise the list of numbers from 1 to 2024\n",
    "numbers = list(range(1, 2025))\n",
    "\n",
    "while len(numbers) > 1:\n",
    "    a, b = random.sample(numbers, 2)\n",
    "    difference = abs(a - b)\n",
    "    numbers.remove(a)\n",
    "    numbers.remove(b)\n",
    "    numbers.append(difference)\n",
    "final_number = numbers[0]\n",
    "final_number"
   ]
  },
  {
   "cell_type": "code",
   "execution_count": 5,
   "id": "502d3ccb-d368-436f-b94d-7b7188c7bde3",
   "metadata": {},
   "outputs": [
    {
     "data": {
      "text/plain": [
       "18"
      ]
     },
     "execution_count": 5,
     "metadata": {},
     "output_type": "execute_result"
    }
   ],
   "source": [
    "import random\n",
    "\n",
    "# Initialise the list of numbers from 1 to 2024\n",
    "numbers = list(range(1, 2025))\n",
    "\n",
    "while len(numbers) > 1:\n",
    "    a, b = random.sample(numbers, 2)\n",
    "    difference = abs(a - b)\n",
    "    numbers.remove(a)\n",
    "    numbers.remove(b)\n",
    "    numbers.append(difference)\n",
    "final_number = numbers[0]\n",
    "final_number"
   ]
  },
  {
   "cell_type": "markdown",
   "id": "b6b11622-16ab-449d-9d8b-294ab62b9274",
   "metadata": {},
   "source": [
    "Therefore, we can conclude the hat game's result is not unique"
   ]
  }
 ],
 "metadata": {
  "kernelspec": {
   "display_name": "Python 3 (ipykernel)",
   "language": "python",
   "name": "python3"
  },
  "language_info": {
   "codemirror_mode": {
    "name": "ipython",
    "version": 3
   },
   "file_extension": ".py",
   "mimetype": "text/x-python",
   "name": "python",
   "nbconvert_exporter": "python",
   "pygments_lexer": "ipython3",
   "version": "3.9.7"
  }
 },
 "nbformat": 4,
 "nbformat_minor": 5
}
