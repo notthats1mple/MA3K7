{
 "cells": [
  {
   "cell_type": "code",
   "execution_count": 1,
   "id": "25b6d55c-72b2-4c59-9c02-832699cc5331",
   "metadata": {
    "tags": []
   },
   "outputs": [
    {
     "name": "stdout",
     "output_type": "stream",
     "text": [
      "Average final population for A particles over 100 simulations: 115.56\n",
      "Average final population for B particles over 100 simulations: 117.6\n",
      "Average final population for C particles over 100 simulations: 110.92\n",
      "Average final population for C particles over 100 simulations: 115.92\n"
     ]
    }
   ],
   "source": [
    "import numpy as np\n",
    "import random\n",
    "\n",
    "num_A_initial = 10\n",
    "num_B_initial = 50\n",
    "num_C_initial = 100\n",
    "num_D_initial = 300\n",
    "num_collisions = 10000\n",
    "num_simulations = 100\n",
    "\n",
    "def simulate_collisions(num_A, num_B, num_C, num_D, num_collisions):\n",
    "    for _ in range(num_collisions):\n",
    "        particles = ['A'] * num_A + ['B'] * num_B + ['C'] * num_C+ ['D'] * num_D\n",
    "        particle1, particle2, particle3 = random.sample(particles, 3)\n",
    "        if {particle1, particle2, particle3} == {'A', 'B', 'C'}:\n",
    "            num_A -= 1\n",
    "            num_B -= 1\n",
    "            num_C -= 1\n",
    "            num_D += 3\n",
    "        elif {particle1, particle2, particle3} == {'A', 'C', 'D'}:\n",
    "            num_A -= 1\n",
    "            num_B += 3\n",
    "            num_C -= 1\n",
    "            num_D -= 1\n",
    "        elif {particle1, particle2, particle3} == {'B', 'C', 'D'}:\n",
    "            num_A += 3\n",
    "            num_B -= 1\n",
    "            num_C -= 1\n",
    "            num_D -= 1\n",
    "        elif {particle1, particle2, particle3} == {'A', 'B', 'D'}:\n",
    "            num_A -= 1\n",
    "            num_B -= 1\n",
    "            num_C += 3\n",
    "            num_D -= 1\n",
    "    return num_A, num_B, num_C, num_D\n",
    "\n",
    "final_populations = {'A': [], 'B': [], 'C': [], 'D': []}\n",
    "\n",
    "for _ in range(num_simulations):\n",
    "    final_A, final_B, final_C, final_D = simulate_collisions(num_A_initial, num_B_initial, num_C_initial, num_D_initial, num_collisions)\n",
    "    final_populations['A'].append(final_A)\n",
    "    final_populations['B'].append(final_B)\n",
    "    final_populations['C'].append(final_C)\n",
    "    final_populations['D'].append(final_D)\n",
    "\n",
    "average_final_A = np.mean(final_populations['A'])\n",
    "average_final_B = np.mean(final_populations['B'])\n",
    "average_final_C = np.mean(final_populations['C'])\n",
    "average_final_D = np.mean(final_populations['D'])\n",
    "\n",
    "print(f\"Average final population for A particles over {num_simulations} simulations: {average_final_A}\")\n",
    "print(f\"Average final population for B particles over {num_simulations} simulations: {average_final_B}\")\n",
    "print(f\"Average final population for C particles over {num_simulations} simulations: {average_final_C}\")\n",
    "print(f\"Average final population for C particles over {num_simulations} simulations: {average_final_D}\")"
   ]
  }
 ],
 "metadata": {
  "kernelspec": {
   "display_name": "Python 3 (ipykernel)",
   "language": "python",
   "name": "python3"
  },
  "language_info": {
   "codemirror_mode": {
    "name": "ipython",
    "version": 3
   },
   "file_extension": ".py",
   "mimetype": "text/x-python",
   "name": "python",
   "nbconvert_exporter": "python",
   "pygments_lexer": "ipython3",
   "version": "3.11.5"
  }
 },
 "nbformat": 4,
 "nbformat_minor": 5
}
