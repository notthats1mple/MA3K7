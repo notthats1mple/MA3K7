{
 "cells": [
  {
   "cell_type": "code",
   "execution_count": 1,
   "id": "252ec664-d069-4b36-8c7b-03e648d297d8",
   "metadata": {
    "tags": []
   },
   "outputs": [
    {
     "data": {
      "image/png": "[encoded data removed]",
      "text/plain": [
       "<Figure size 720x432 with 1 Axes>"
      ]
     },
     "metadata": {
      "needs_background": "light"
     },
     "output_type": "display_data"
    }
   ],
   "source": [
    "import random\n",
    "import numpy as np\n",
    "import matplotlib.pyplot as plt\n",
    "from scipy import stats\n",
    "def new_hat_numbers():\n",
    "    papers = list(range(1, 2024))\n",
    "    while len(papers) > 1:\n",
    "        if len(papers) == 2:\n",
    "            return abs(papers[0] - papers[1])\n",
    "        else:\n",
    "            drawn = sorted(random.sample(papers, 3))\n",
    "            new_number = (drawn[2] - drawn[1]) - (drawn[1] - drawn[0])\n",
    "            for paper in drawn:\n",
    "                papers.remove(paper)\n",
    "            papers.append(new_number)\n",
    "    return papers[0] if len(papers)==1 else None\n",
    "\n",
    "num_simulations = 1000\n",
    "final_numbers = [new_hat_numbers() for _ in range(num_simulations)]\n",
    "plt.figure(figsize=(10, 6))\n",
    "plt.hist(final_numbers, bins=100, color='skyblue', edgecolor='black')\n",
    "plt.title('Distribution of Final Numbers')\n",
    "plt.xlabel('Final Number')\n",
    "plt.ylabel('Frequency')\n",
    "plt.grid(axis='y', alpha=0.75)\n",
    "plt.show()"
   ]
  },
  {
   "cell_type": "code",
   "execution_count": 2,
   "id": "a49124f2-2a3b-4aaa-b7fc-7fd6dc117f85",
   "metadata": {},
   "outputs": [
    {
     "name": "stdout",
     "output_type": "stream",
     "text": [
      "Median: 5.5\n",
      "Variance: 1177466.0976\n",
      "Skewness: -0.11238953124790652\n"
     ]
    }
   ],
   "source": [
    "median = np.median(final_numbers)\n",
    "variance = np.var(final_numbers)\n",
    "skewness = stats.skew(final_numbers)\n",
    "\n",
    "print(f\"Median: {median}\")\n",
    "print(f\"Variance: {variance}\")\n",
    "print(f\"Skewness: {skewness}\")"
   ]
  }
 ],
 "metadata": {
  "kernelspec": {
   "display_name": "Python 3 (ipykernel)",
   "language": "python",
   "name": "python3"
  },
  "language_info": {
   "codemirror_mode": {
    "name": "ipython",
    "version": 3
   },
   "file_extension": ".py",
   "mimetype": "text/x-python",
   "name": "python",
   "nbconvert_exporter": "python",
   "pygments_lexer": "ipython3",
   "version": "3.9.7"
  }
 },
 "nbformat": 4,
 "nbformat_minor": 5
}
