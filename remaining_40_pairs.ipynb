{
 "cells": [
  {
   "cell_type": "code",
   "execution_count": 2,
   "id": "226d1c0a-456e-4145-aea5-2e94e3bc6696",
   "metadata": {},
   "outputs": [
    {
     "data": {
      "text/plain": [
       "['00',\n",
       " '02',\n",
       " '04',\n",
       " '05',\n",
       " '06',\n",
       " '08',\n",
       " '13',\n",
       " '18',\n",
       " '20',\n",
       " '21',\n",
       " '22',\n",
       " '24',\n",
       " '26',\n",
       " '28',\n",
       " '34',\n",
       " '39',\n",
       " '40',\n",
       " '42',\n",
       " '44',\n",
       " '46',\n",
       " '47',\n",
       " '48',\n",
       " '50',\n",
       " '55',\n",
       " '60',\n",
       " '62',\n",
       " '63',\n",
       " '64',\n",
       " '66',\n",
       " '68',\n",
       " '71',\n",
       " '76',\n",
       " '80',\n",
       " '82',\n",
       " '84',\n",
       " '86',\n",
       " '88',\n",
       " '89',\n",
       " '92',\n",
       " '97']"
      ]
     },
     "execution_count": 2,
     "metadata": {},
     "output_type": "execute_result"
    }
   ],
   "source": [
    "first_term = 1\n",
    "second_term = 5\n",
    "sequence = [first_term, second_term]\n",
    "max_iterations = 1000\n",
    "current_iteration = 0\n",
    "\n",
    "while current_iteration < max_iterations:\n",
    "    next_term = (first_term + second_term) % 10\n",
    "    sequence.append(next_term)\n",
    "    first_term, second_term = second_term, next_term\n",
    "    current_iteration += 1\n",
    "    if len(sequence) > 4 and sequence[-4:] == sequence[:4]:\n",
    "        break\n",
    "\n",
    "a = sequence[:len(sequence)-3]\n",
    "two_digit_numbers = set()\n",
    "for i in range(0, len(a) - 1):\n",
    "    number = a[i] * 10 + a[i + 1]\n",
    "    if 0 <= number <= 99:\n",
    "        two_digit_numbers.add(number)\n",
    "all_two_digit_numbers = set(range(100))\n",
    "remaining_numbers = all_two_digit_numbers - two_digit_numbers\n",
    "formatted_remaining_numbers = [f\"{num:02d}\" for num in remaining_numbers_sorted]\n",
    "\n",
    "formatted_remaining_numbers"
   ]
  }
 ],
 "metadata": {
  "kernelspec": {
   "display_name": "Python 3 (ipykernel)",
   "language": "python",
   "name": "python3"
  },
  "language_info": {
   "codemirror_mode": {
    "name": "ipython",
    "version": 3
   },
   "file_extension": ".py",
   "mimetype": "text/x-python",
   "name": "python",
   "nbconvert_exporter": "python",
   "pygments_lexer": "ipython3",
   "version": "3.9.7"
  }
 },
 "nbformat": 4,
 "nbformat_minor": 5
}
