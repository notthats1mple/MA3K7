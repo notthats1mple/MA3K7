{
 "cells": [
  {
   "cell_type": "code",
   "execution_count": 1,
   "id": "5de31e0b-4920-4c50-a179-df5e2a52633d",
   "metadata": {
    "tags": []
   },
   "outputs": [
    {
     "name": "stdout",
     "output_type": "stream",
     "text": [
      "Average final population for A particles over 100 simulations: 1158.42\n",
      "Average final population for B particles over 100 simulations: 1155.13\n",
      "Average final population for C particles over 100 simulations: 1196.45\n"
     ]
    }
   ],
   "source": [
    "import numpy as np\n",
    "import random\n",
    "\n",
    "num_A_initial = 10\n",
    "num_B_initial = 500\n",
    "num_C_initial = 3000\n",
    "num_collisions = 10000\n",
    "num_simulations = 100\n",
    "\n",
    "def simulate_collisions(num_A, num_B, num_C, num_collisions):\n",
    "    for _ in range(num_collisions):\n",
    "        particles = ['A'] * num_A + ['B'] * num_B + ['C'] * num_C\n",
    "        particle1, particle2 = random.sample(particles, 2)\n",
    "        if {particle1, particle2} == {'A', 'B'}:\n",
    "            num_A -= 1\n",
    "            num_B -= 1\n",
    "            num_C += 2\n",
    "        elif {particle1, particle2} == {'A', 'C'}:\n",
    "            num_A -= 1\n",
    "            num_C -= 1\n",
    "            num_B += 2\n",
    "        elif {particle1, particle2} == {'B', 'C'}:\n",
    "            num_B -= 1\n",
    "            num_C -= 1\n",
    "            num_A += 2\n",
    "    return num_A, num_B, num_C\n",
    "\n",
    "final_populations = {'A': [], 'B': [], 'C': []}\n",
    "for _ in range(num_simulations):\n",
    "    final_A, final_B, final_C = simulate_collisions(num_A_initial, num_B_initial, num_C_initial, num_collisions)\n",
    "    final_populations['A'].append(final_A)\n",
    "    final_populations['B'].append(final_B)\n",
    "    final_populations['C'].append(final_C)\n",
    "\n",
    "average_final_A = np.mean(final_populations['A'])\n",
    "average_final_B = np.mean(final_populations['B'])\n",
    "average_final_C = np.mean(final_populations['C'])\n",
    "print(f\"Average final population for A particles over {num_simulations} simulations: {average_final_A}\")\n",
    "print(f\"Average final population for B particles over {num_simulations} simulations: {average_final_B}\")\n",
    "print(f\"Average final population for C particles over {num_simulations} simulations: {average_final_C}\")"
   ]
  }
 ],
 "metadata": {
  "kernelspec": {
   "display_name": "Python 3 (ipykernel)",
   "language": "python",
   "name": "python3"
  },
  "language_info": {
   "codemirror_mode": {
    "name": "ipython",
    "version": 3
   },
   "file_extension": ".py",
   "mimetype": "text/x-python",
   "name": "python",
   "nbconvert_exporter": "python",
   "pygments_lexer": "ipython3",
   "version": "3.11.5"
  }
 },
 "nbformat": 4,
 "nbformat_minor": 5
}
